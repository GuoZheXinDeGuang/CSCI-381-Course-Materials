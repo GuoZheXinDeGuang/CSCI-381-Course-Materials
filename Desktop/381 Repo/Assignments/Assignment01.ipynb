{
 "cells": [
  {
   "cell_type": "markdown",
   "id": "36f30f11",
   "metadata": {},
   "source": [
    "## Assignment 01 "
   ]
  },
  {
   "cell_type": "markdown",
   "id": "0010eb12",
   "metadata": {},
   "source": [
    "Create code to do the following:\n",
    "<font color='red'>**(Use SHELL SCRIPT code ONLY - DO NOT use python):**</font>"
   ]
  },
  {
   "cell_type": "markdown",
   "id": "5cbcde63",
   "metadata": {},
   "source": [
    "**1.** Using the data file `\"data.csv\"`, create a new version of the data in a new file `data_v2.csv` that contains only the following columns: `customerID,gender,PhoneService,InternetService,StreamingTV,Contract,TotalCharges,Churn`"
   ]
  },
  {
   "cell_type": "code",
   "execution_count": 9,
   "id": "b4603f50",
   "metadata": {},
   "outputs": [
    {
     "data": {
      "text/plain": [
       "[]"
      ]
     },
     "execution_count": 9,
     "metadata": {},
     "output_type": "execute_result"
    }
   ],
   "source": [
    "%%!\n",
    "# Write your code Here\n",
    "cat data.csv | cut -d ',' -f1,2,7,9,14,16,20,21 > data_v2.csv"
   ]
  },
  {
   "cell_type": "markdown",
   "id": "8aa2dc86",
   "metadata": {},
   "source": [
    "**2.** From the data file `\"data_v2.csv\"` Keep only those who have phoneService with StreamingTV (save result in a new file called `data_v3.csv`\n",
    "\n",
    "**Hints:**\n",
    "- The default separator between values is \"space, tab and newLine sign\" i.e. `' \\t\\n'`. In order to specify the default separator between the values to be newLine sign in your system, you can use `IFS=$'\\n'` before you run your code, then set that back to be: `IFS=$' \\t\\n'` at the end of your code.\n",
    "- if you had a variable such as `x` and you want to pass its value to another instruction suh as `cut`, and save results in variable `y`. then you can do that as follows:\n",
    "`y=$(echo $x | cut)`"
   ]
  },
  {
   "cell_type": "code",
   "execution_count": 11,
   "id": "27d40589",
   "metadata": {},
   "outputs": [
    {
     "data": {
      "text/plain": [
       "[]"
      ]
     },
     "execution_count": 11,
     "metadata": {},
     "output_type": "execute_result"
    }
   ],
   "source": [
    "%%!\n",
    "IFS=$'\\n'\n",
    "# Write your code Here\n",
    "echo -n \"\" > data_v3.csv\n",
    "\n",
    "for line in $(cat data_v2.csv);\n",
    "do\n",
    "    PhoneService=$(echo $line | cut -d ',' -f3)\n",
    "    StreamTV=$(echo $line | cut -d ',' -f5)\n",
    "    \n",
    "    if [ $PhoneService = 'Yes'  -a  $StreamTV = 'Yes' ]\n",
    "    then \n",
    "        echo $line >> data_v3.csv\n",
    "    fi\n",
    "done\n",
    "# Your code ends here\n",
    "IFS=$' \\t\\n'"
   ]
  },
  {
   "cell_type": "markdown",
   "id": "f959379e",
   "metadata": {},
   "source": [
    "**3.** Using the data file `\"data_v3.csv\"`, find the contract type that has the largest number clients"
   ]
  },
  {
   "cell_type": "code",
   "execution_count": 6,
   "id": "bb1eea8e",
   "metadata": {},
   "outputs": [
    {
     "data": {
      "text/plain": [
       "['1178 Month-to-month']"
      ]
     },
     "execution_count": 6,
     "metadata": {},
     "output_type": "execute_result"
    }
   ],
   "source": [
    "%%!\n",
    "# Write your code Here\n",
    "cat data_v3.csv | cut -d',' -f6 |sort | uniq -c | sort -rn | head -n 1 "
   ]
  },
  {
   "cell_type": "markdown",
   "id": "35f6970c",
   "metadata": {},
   "source": [
    "**4.** Using the data file `\"data_v3.csv\"`, Find the number of Female vs male in each contract type"
   ]
  },
  {
   "cell_type": "code",
   "execution_count": 13,
   "id": "58fb0bfc",
   "metadata": {},
   "outputs": [
    {
     "data": {
      "text/plain": [
       "[' 283 Male,One year',\n",
       " ' 299 Female,One year',\n",
       " ' 326 Male,Two year',\n",
       " ' 336 Female,Two year',\n",
       " ' 580 Female,Month-to-month',\n",
       " ' 598 Male,Month-to-month']"
      ]
     },
     "execution_count": 13,
     "metadata": {},
     "output_type": "execute_result"
    }
   ],
   "source": [
    "%%!\n",
    "# Write your code Here\n",
    "cat data_v3.csv | cut -d ',' -f 2,6 | sort | uniq -c | sort -n"
   ]
  },
  {
   "cell_type": "markdown",
   "id": "a9cce987",
   "metadata": {},
   "source": [
    "**5.** Using the data file `\"data_v3.csv\"`, Create three separate files (one for each type of contracts):\n",
    "\n",
    "- `Month-to-month.csv` that contains only those with Month-to-month contract type\n",
    "- `Two year.csv` that contains only those with Two years contract type\n",
    "- `One year.csv` that contains only those with One year contract type"
   ]
  },
  {
   "cell_type": "code",
   "execution_count": 1,
   "id": "77434c6c",
   "metadata": {
    "scrolled": true
   },
   "outputs": [
    {
     "data": {
      "text/plain": [
       "[]"
      ]
     },
     "execution_count": 1,
     "metadata": {},
     "output_type": "execute_result"
    }
   ],
   "source": [
    "%%!\n",
    "#write your code here\n",
    "IFS=$'\\n'\n",
    "echo -n \"\" > Month-to-month.csv\n",
    "echo -n \"\" > One-year.csv\n",
    "echo -n \"\" > Two-year.csv\n",
    "\n",
    "# Skip the header line from data_v3.csv and read each subsequent line\n",
    "for line in $(cat data_v3.csv); \n",
    "do\n",
    "    # Extract the contract type, it's in the 6th column\n",
    "    contract_type=$(echo $line | cut -d ',' -f6)\n",
    "    line1=$(echo $line | cut -d ',' -f1-5)\n",
    "    # Determine the output file based on contract type using if statements\n",
    "    if [ $contract_type = 'Month-to-month' ]; then\n",
    "         echo $line1 >> Month-to-month.csv\n",
    "    elif [ $contract_type = 'One year' ]; then\n",
    "         echo $line1 >> One-year.csv\n",
    "    elif [ $contract_type = 'Two year' ]; then\n",
    "         echo $line1  >> Two-year.csv\n",
    "    fi\n",
    "done\n",
    "\n",
    "IFS=$' \\t\\n'"
   ]
  },
  {
   "cell_type": "code",
   "execution_count": null,
   "id": "5aba8418",
   "metadata": {},
   "outputs": [],
   "source": []
  }
 ],
 "metadata": {
  "kernelspec": {
   "display_name": "Python 3 (ipykernel)",
   "language": "python",
   "name": "python3"
  },
  "language_info": {
   "codemirror_mode": {
    "name": "ipython",
    "version": 3
   },
   "file_extension": ".py",
   "mimetype": "text/x-python",
   "name": "python",
   "nbconvert_exporter": "python",
   "pygments_lexer": "ipython3",
   "version": "3.9.12"
  }
 },
 "nbformat": 4,
 "nbformat_minor": 5
}

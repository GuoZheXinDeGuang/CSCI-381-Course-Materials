{
 "cells": [
  {
   "cell_type": "markdown",
   "metadata": {},
   "source": [
    "**Important Note**: <u>Please be sure to use instructions explained in the class ONLY (Do NOT use any non-explained library)</u>"
   ]
  },
  {
   "cell_type": "markdown",
   "metadata": {},
   "source": [
    "### Question 1\n",
    "\n",
    "There are 12 files in the folder `sales-data`: (1.txt, 2.txt, 3.txt, .. 12.txt). Each one of these files contains sales amount of three different items (item1, item2 items) in 30 days (each line represents one day). "
   ]
  },
  {
   "cell_type": "markdown",
   "metadata": {},
   "source": [
    "**a.**  Write python code to create a new file `totals.txt` that contains the total sale of each item in each month. The content of the file should look like this:\n",
    "\n",
    "```\n",
    "item1,item2,item3\n",
    "164714,171778,153696\n",
    "162723,181867,166487\n",
    "172914,149516,155791\n",
    "179961,153297,173636\n",
    "159424,174871,149985\n",
    "181047,157718,155231\n",
    "153844,155137,181145\n",
    "175812,175479,169075\n",
    "177620,167257,167605\n",
    "180829,178063,170401\n",
    "172265,176444,152275\n",
    "151173,159185,139130\n",
    "```"
   ]
  },
  {
   "cell_type": "code",
   "execution_count": 5,
   "metadata": {},
   "outputs": [],
   "source": [
    "## Your code here\n",
    "path = \"/Users/danielliu/Downloads/CS381/\" #This is subject to change since this is my directory\n",
    "file = open(path + \"1.txt\", 'r')\n",
    "head = file.readlines()[0]\n",
    "file.close()\n",
    "\n",
    "output = open(path + \"totals.txt\", 'a')\n",
    "output.write(head)\n",
    "\n",
    "for i in range(1, 13):\n",
    "    f = open(path + str(i) + \".txt\", 'r')\n",
    "    lines = f.readlines()[1:]\n",
    "    sum_1 = sum(int(line.split(\",\")[0]) for line in lines)\n",
    "    sum_2 = sum(int(line.split(\",\")[1]) for line in lines)\n",
    "    sum_3 = sum(int(line.split(\",\")[2]) for line in lines)\n",
    "    output.write(f\"{sum_1},{sum_2},{sum_3}\\n\")\n",
    "    f.close()\n",
    "output.close()"
   ]
  },
  {
   "cell_type": "markdown",
   "metadata": {},
   "source": [
    "**b.** use the created file `totals.txt` to print a list of items names sorted by their total sales (form largest to smallest). The output should look like this:\n",
    "\n",
    "```\n",
    "['item0', 'item1', 'item2']\n",
    "```"
   ]
  },
  {
   "cell_type": "code",
   "execution_count": 6,
   "metadata": {},
   "outputs": [
    {
     "name": "stdout",
     "output_type": "stream",
     "text": [
      "['item0', 'item1', 'item2']\n"
     ]
    }
   ],
   "source": [
    "## Your code here\n",
    "path = \"/Users/danielliu/Downloads/CS381/\"  # This is subject to change since this is my directory\n",
    "file = open(path + \"totals.txt\", 'r')\n",
    "x = file.readlines()[1:]\n",
    "file.close()\n",
    "\n",
    "sum_1 = sum(int(line.split(\",\")[0]) for line in x)\n",
    "sum_2 = sum(int(line.split(\",\")[1]) for line in x)\n",
    "sum_3 = sum(int(line.split(\",\")[2]) for line in x)\n",
    "sales = {'item0': sum_1, 'item1': sum_2, 'item2': sum_3}\n",
    "\n",
    "sorted_sales = map(lambda n:n[0],sorted(sales.items(), key=lambda item: item[1],reverse=True))\n",
    "print(list(sorted_sales))"
   ]
  },
  {
   "cell_type": "markdown",
   "metadata": {},
   "source": [
    "### Question 2.\n",
    " \n",
    "**a.** Define a python class `Book`, so that each book should have:\n",
    "- The following attributes:\n",
    "    - `title`\n",
    "    - `authors_lastnames` (list of authors_lastnames)\n",
    "    - `publisher_name`\n",
    "    - `publishing_year`\n",
    "- One method called `get_citation()` returns a string that contains the book citation in the following format : \n",
    "\n",
    "    ```authors_lastnames (publishing_year). title, publisher.```\n",
    "    \n",
    "For example:\n",
    "    `Meysman, Cielen (2016). Introducing Data Science, manning`\n",
    "\n",
    "**Notes:** \n",
    "- If there is more than one author be sure to add `,` between their lastnames.\n"
   ]
  },
  {
   "cell_type": "code",
   "execution_count": 7,
   "metadata": {},
   "outputs": [],
   "source": [
    "## Your code here\n",
    "class Book:\n",
    "    def __init__(self, title, authors_lastnames, publisher_name, publishing_year):\n",
    "        self.title = title\n",
    "        self.authors_lastnames = authors_lastnames\n",
    "        self.publisher_name = publisher_name\n",
    "        self.publishing_year = publishing_year\n",
    "\n",
    "    def get_citation(self):\n",
    "        authors_str = ', '.join(self.authors_lastnames)\n",
    "        citation = f\"{authors_str} ({self.publishing_year}). {self.title}, {self.publisher_name}\"\n",
    "        return citation"
   ]
  },
  {
   "cell_type": "markdown",
   "metadata": {},
   "source": [
    "**b.** Use the created class to create a list of books call it `list_of_books`  using the data in file `booksdata.txt`"
   ]
  },
  {
   "cell_type": "code",
   "execution_count": 8,
   "metadata": {},
   "outputs": [],
   "source": [
    "## Your code here\n",
    "list_of_books=[]\n",
    "path = \"/Users/danielliu/Downloads/CS381/\"  # This is subject to change since this is my directory\n",
    "file = open(path + \"booksdata.txt\", 'r')\n",
    "x=file.readlines()\n",
    "for books in x:\n",
    "    authors_lastnames, publishing_year,title,publisher_name,=books.split(\",\")\n",
    "    authors_lastnames_list=authors_lastnames.split(\"|\")\n",
    "    list_of_books.append(Book(title,authors_lastnames_list,publisher_name,publishing_year))\n",
    "file.close()"
   ]
  },
  {
   "cell_type": "markdown",
   "metadata": {},
   "source": [
    "**c.** Loop through the books in the `list_of_books` then find the latest 3 books (recently published) and show their citation.\n",
    "\n",
    "The output should be like this:\n",
    "\n",
    "```\n",
    "Chojecki (2021). Data Science Job: How To Become A Data Scientist, Przemek\n",
    "Robinson, Nolis (2020). Build A Career In Data Science, Manning\n",
    "Carter (2020). Data Science For Mathematicians, CRC Press\n",
    "\n",
    "```\n"
   ]
  },
  {
   "cell_type": "code",
   "execution_count": 20,
   "metadata": {},
   "outputs": [
    {
     "name": "stdout",
     "output_type": "stream",
     "text": [
      "Chojecki (2021). Data Science Job: How to become a Data Scientist, Przemek\n",
      "Robinson, Nolis (2020). Build a Career in Data Science, Manning\n",
      "Carter (2020). Data Science for Mathematicians, CRC Press\n"
     ]
    }
   ],
   "source": [
    "## Your code here\n",
    "new_books_list=sorted(list_of_books,key=lambda n:int(n.publishing_year),reverse=True)\n",
    "citation_list=list(map(lambda n:n.get_citation(),new_books_list))\n",
    "for elem in citation_list[0:3]:\n",
    "    print(elem,end=\"\")"
   ]
  },
  {
   "cell_type": "markdown",
   "metadata": {},
   "source": [
    "**d.** Write <u>shell code</u> to read the data from `booksdata.txt` then extract book titles only and save result in `bookstitles.txt` sorted from a-z"
   ]
  },
  {
   "cell_type": "code",
   "execution_count": 12,
   "metadata": {
    "scrolled": true
   },
   "outputs": [
    {
     "data": {
      "text/plain": [
       "[]"
      ]
     },
     "execution_count": 12,
     "metadata": {},
     "output_type": "execute_result"
    }
   ],
   "source": [
    "%%!\n",
    "## Your code here\n",
    "IFS=$'\\n'\n",
    "echo -n \"\" > bookstitles.txt\n",
    "cat \"/Users/danielliu/Downloads/CS381/booksdata.txt\" | cut -d ',' -f3 | sort >> bookstitles.txt\n",
    "IFS=$' \\t\\n'"
   ]
  }
 ],
 "metadata": {
  "kernelspec": {
   "display_name": "Python 3 (ipykernel)",
   "language": "python",
   "name": "python3"
  },
  "language_info": {
   "codemirror_mode": {
    "name": "ipython",
    "version": 3
   },
   "file_extension": ".py",
   "mimetype": "text/x-python",
   "name": "python",
   "nbconvert_exporter": "python",
   "pygments_lexer": "ipython3",
   "version": "3.9.12"
  }
 },
 "nbformat": 4,
 "nbformat_minor": 2
}

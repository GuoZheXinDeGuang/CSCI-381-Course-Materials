{
 "cells": [
  {
   "cell_type": "markdown",
   "id": "4d9331f8",
   "metadata": {},
   "source": [
    "## Exercise 01\n",
    "\n",
    "Write code to read data from: https://data.giss.nasa.gov/gistemp/tabledata_v3/GLB.Ts+dSST.txt . \n",
    "\n",
    "Keep all monthly temperatures (from Jan to Dec) between 1980 and 2015 ONLY (ignore any other data), then:\n",
    "\n",
    "- Find minimum temperature in Jan between 1980 - 2015\n",
    "- Find average temperature in each year between 1980 - 2015\n",
    "- Find temperature in Jan 2000\n",
    "- Find temperature in Jun 2009"
   ]
  },
  {
   "cell_type": "code",
   "execution_count": 2,
   "id": "d1efb0aa",
   "metadata": {},
   "outputs": [
    {
     "name": "stdout",
     "output_type": "stream",
     "text": [
      "The lowest temperature is: 10F\n"
     ]
    }
   ],
   "source": [
    "# Find minimum temperature in Jan between 1980 - 2015\n",
    "# Your code here\n",
    "import requests\n",
    "import re\n",
    "url=\"https://data.giss.nasa.gov/gistemp/tabledata_v3/GLB.Ts+dSST.txt\"\n",
    "content=requests.get(url).text\n",
    "lines=content.split(\"\\n\")\n",
    "years=[str(i) for i in range(1980,2016,1)]\n",
    "jan_temp=[]\n",
    "for l in lines[7:-6]:\n",
    "    l_temp=re.findall(\"\\S+\",l)\n",
    "    if l_temp!=[]:\n",
    "        if l_temp[0] in years:\n",
    "            jan_temp.append(int(l_temp[1]))\n",
    "print(\"The lowest temperature is: \"+str(min(jan_temp))+\"F\")"
   ]
  },
  {
   "cell_type": "code",
   "execution_count": 3,
   "id": "3ff88d03",
   "metadata": {},
   "outputs": [
    {
     "name": "stdout",
     "output_type": "stream",
     "text": [
      "In year 1980 the average temperature is: 27F\n",
      "In year 1981 the average temperature is: 33F\n",
      "In year 1982 the average temperature is: 13F\n",
      "In year 1983 the average temperature is: 32F\n",
      "In year 1984 the average temperature is: 16F\n",
      "In year 1985 the average temperature is: 12F\n",
      "In year 1986 the average temperature is: 18F\n",
      "In year 1987 the average temperature is: 33F\n",
      "In year 1988 the average temperature is: 41F\n",
      "In year 1989 the average temperature is: 29F\n",
      "In year 1990 the average temperature is: 44F\n",
      "In year 1991 the average temperature is: 41F\n",
      "In year 1992 the average temperature is: 22F\n",
      "In year 1993 the average temperature is: 24F\n",
      "In year 1994 the average temperature is: 31F\n",
      "In year 1995 the average temperature is: 45F\n",
      "In year 1996 the average temperature is: 34F\n",
      "In year 1997 the average temperature is: 47F\n",
      "In year 1998 the average temperature is: 62F\n",
      "In year 1999 the average temperature is: 40F\n",
      "In year 2000 the average temperature is: 40F\n",
      "In year 2001 the average temperature is: 53F\n",
      "In year 2002 the average temperature is: 62F\n",
      "In year 2003 the average temperature is: 60F\n",
      "In year 2004 the average temperature is: 53F\n",
      "In year 2005 the average temperature is: 67F\n",
      "In year 2006 the average temperature is: 62F\n",
      "In year 2007 the average temperature is: 64F\n",
      "In year 2008 the average temperature is: 51F\n",
      "In year 2009 the average temperature is: 63F\n",
      "In year 2010 the average temperature is: 70F\n",
      "In year 2011 the average temperature is: 58F\n",
      "In year 2012 the average temperature is: 62F\n",
      "In year 2013 the average temperature is: 65F\n",
      "In year 2014 the average temperature is: 73F\n",
      "In year 2015 the average temperature is: 87F\n"
     ]
    }
   ],
   "source": [
    "# Find average temperature in each year between 1980 - 2015\n",
    "# Your code here\n",
    "avg_temp=[]\n",
    "for l in lines[7:-6]:\n",
    "    l_temp=re.findall(\"\\S+\",l)\n",
    "    if l_temp!=[] and l_temp[0]!='Year':\n",
    "        if l_temp[0] in years:\n",
    "            avg_temp.append(l_temp[13])\n",
    "#print(avg_temp)\n",
    "for i in range(len(years)):\n",
    "    print(\"In year \"+years[i]+\" the average temperature is: \"+avg_temp[i]+\"F\")"
   ]
  },
  {
   "cell_type": "code",
   "execution_count": 4,
   "id": "0c8e9872",
   "metadata": {},
   "outputs": [
    {
     "name": "stdout",
     "output_type": "stream",
     "text": [
      "The temperature in 2000 is: 23F\n"
     ]
    }
   ],
   "source": [
    "# Find temperature in Jan 2000\n",
    "# Your code here\n",
    "for l in lines[7:-6]:\n",
    "    l_temp=re.findall(\"\\S+\",l)\n",
    "    if l_temp!=[] and l_temp[0]=='2000':\n",
    "        print(\"The temperature in 2000 is: \"+l_temp[1]+\"F\")\n",
    "        break"
   ]
  },
  {
   "cell_type": "code",
   "execution_count": 5,
   "id": "c79dd043",
   "metadata": {},
   "outputs": [
    {
     "name": "stdout",
     "output_type": "stream",
     "text": [
      "The temperature in 2009 is: 65F\n"
     ]
    }
   ],
   "source": [
    "# Find temperature in Jun 2009\n",
    "# Your code here\n",
    "for l in lines[7:-6]:\n",
    "    l_temp=re.findall(\"\\S+\",l)\n",
    "    if l_temp!=[] and l_temp[0]=='2009':\n",
    "        print(\"The temperature in 2009 is: \"+l_temp[6]+\"F\")\n",
    "        break"
   ]
  },
  {
   "cell_type": "markdown",
   "id": "d7650e32",
   "metadata": {},
   "source": [
    "## Extra Credit  (Optional)\n",
    "\n",
    "`answers.txt` contains students answers of exam questions (each line contains student_id, then answers made by that student)\n",
    "\n",
    "- The first number is the student’s ID number. The following 25 letters are the student responses to the exam. If there is no letter following a comma, this means the student skipped answering the question.\n",
    "\n",
    "- Write code to read the data from the file, compare students answers to answers key (1 point for each correct answer), then find: \n",
    "\n",
    "    - The grade for each student.\n",
    "    - Id of student of the highest score.\n",
    "    - Id of student of the lowest score.\n",
    "\n",
    "`answerkey = \"B,A,D,D,C,B,D,A,C,C,D,B,A,B,A,C,B,D,A,C,A,A,B,D,D\"`"
   ]
  },
  {
   "cell_type": "code",
   "execution_count": 6,
   "id": "75126dfa",
   "metadata": {},
   "outputs": [],
   "source": [
    "answerkey = \"B,A,D,D,C,B,D,A,C,C,D,B,A,B,A,C,B,D,A,C,A,A,B,D,D\""
   ]
  },
  {
   "cell_type": "code",
   "execution_count": 7,
   "id": "0901b22d",
   "metadata": {},
   "outputs": [
    {
     "name": "stdout",
     "output_type": "stream",
     "text": [
      "[16, 18, 21, 19, 21, 18, 22, 18, 22, 19, 22, 19, 19, 20, 19, 23, 18, 20, 20, 18]\n"
     ]
    }
   ],
   "source": [
    "# The grade for each student\n",
    "# Your code here\n",
    "file=open(\"answers.txt\",\"r\")\n",
    "answerkey_list=answerkey.split(\",\")\n",
    "student_grade=[]\n",
    "for l in file.read().split(\"\\n\"):\n",
    "    l_ans=l.split(',')[1:]\n",
    "    student_score=0\n",
    "    for i in range(len(answerkey_list)):\n",
    "        if answerkey_list[i]==l_ans[i]:\n",
    "            student_score+=1\n",
    "    student_grade.append(student_score)\n",
    "file.close()\n",
    "print(student_grade)"
   ]
  },
  {
   "cell_type": "code",
   "execution_count": 8,
   "id": "a04c7db3",
   "metadata": {},
   "outputs": [
    {
     "name": "stdout",
     "output_type": "stream",
     "text": [
      "N00000016\n"
     ]
    }
   ],
   "source": [
    "# Id of student of the highest score\n",
    "# Your code here\n",
    "import numpy as np\n",
    "file=open(\"answers.txt\",\"r\")\n",
    "grades=np.array(student_grade)\n",
    "num=np.argmax(grades)\n",
    "x=file.readlines()\n",
    "print(x[num].split(\",\")[0])\n",
    "file.close()"
   ]
  },
  {
   "cell_type": "code",
   "execution_count": 9,
   "id": "c6486051",
   "metadata": {},
   "outputs": [
    {
     "name": "stdout",
     "output_type": "stream",
     "text": [
      "N00000001\n"
     ]
    }
   ],
   "source": [
    "# Id of student of the lowest score\n",
    "# Your code here\n",
    "import numpy as np\n",
    "file=open(\"answers.txt\",\"r\")\n",
    "grades=np.array(student_grade)\n",
    "num=np.argmin(grades)\n",
    "x=file.readlines()\n",
    "print(x[num].split(\",\")[0])\n",
    "file.close()"
   ]
  },
  {
   "cell_type": "code",
   "execution_count": null,
   "id": "3156a4ea",
   "metadata": {},
   "outputs": [],
   "source": []
  }
 ],
 "metadata": {
  "kernelspec": {
   "display_name": "Python 3 (ipykernel)",
   "language": "python",
   "name": "python3"
  },
  "language_info": {
   "codemirror_mode": {
    "name": "ipython",
    "version": 3
   },
   "file_extension": ".py",
   "mimetype": "text/x-python",
   "name": "python",
   "nbconvert_exporter": "python",
   "pygments_lexer": "ipython3",
   "version": "3.9.12"
  }
 },
 "nbformat": 4,
 "nbformat_minor": 5
}

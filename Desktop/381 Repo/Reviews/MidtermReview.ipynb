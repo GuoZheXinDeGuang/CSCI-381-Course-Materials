{
 "cells": [
  {
   "cell_type": "code",
   "execution_count": 8,
   "id": "9976d714-1041-458d-99a2-9f0982b0388b",
   "metadata": {},
   "outputs": [
    {
     "name": "stdout",
     "output_type": "stream",
     "text": [
      "50\n",
      "16\n"
     ]
    }
   ],
   "source": [
    "class Shape:\n",
    "    object_count = 0\n",
    "    def __init__(self, length):\n",
    "        self.length = length\n",
    "        Shape.object_count += 1\n",
    "        \n",
    "    def area(self):\n",
    "        return 0\n",
    "\n",
    "class Square(Shape):\n",
    "    def __init__(self, length):\n",
    "        super().__init__(length)\n",
    "\n",
    "    def area(self):\n",
    "        return self.length**2\n",
    "\n",
    "class Rectangle(Shape):\n",
    "    def __init__(self, length, width):\n",
    "        super().__init__(length)\n",
    "        self.width = width\n",
    "\n",
    "    def area(self):\n",
    "        return self.length * self.width\n",
    "\n",
    "rect = Rectangle(5, 10)\n",
    "sq = Square(4)\n",
    "print(rect.area())\n",
    "print(sq.area())\n"
   ]
  },
  {
   "cell_type": "code",
   "execution_count": 6,
   "id": "72fa5651-a2ac-4674-bc37-bad80271a716",
   "metadata": {},
   "outputs": [
    {
     "data": {
      "text/plain": [
       "2"
      ]
     },
     "execution_count": 6,
     "metadata": {},
     "output_type": "execute_result"
    }
   ],
   "source": [
    "Shape.object_count"
   ]
  },
  {
   "cell_type": "code",
   "execution_count": 202,
   "id": "fd0c6d22-4249-48e4-9b6e-c46ef26a21f8",
   "metadata": {},
   "outputs": [
    {
     "name": "stdout",
     "output_type": "stream",
     "text": [
      "Length * Width\n"
     ]
    }
   ],
   "source": [
    "class Shape:       \n",
    "    def about(self):\n",
    "        return \"I am just a shape\"\n",
    "\n",
    "class Square(Shape):\n",
    "    def about(self):\n",
    "        return \"I am a Square\"\n",
    "        \n",
    "    def area(self):\n",
    "        return \"Square of Side\"\n",
    "\n",
    "class Rectangle(Shape):\n",
    "    def about(self):\n",
    "        return \"I am a Rectangle\"\n",
    "        \n",
    "    def area(self):\n",
    "        return \"Length * Width\"\n",
    "\n",
    "rect = Rectangle()\n",
    "square = Square()\n",
    "#rect = Shape()\n",
    "print(rect.area())"
   ]
  },
  {
   "cell_type": "code",
   "execution_count": 37,
   "id": "8947d01e-e94b-453c-b41e-6d6b3f667fe7",
   "metadata": {},
   "outputs": [
    {
     "data": {
      "text/plain": [
       "['[1, 2, 3][4, 5, 6][1, 2, 3, 4, 5, 6]']"
      ]
     },
     "execution_count": 37,
     "metadata": {},
     "output_type": "execute_result"
    }
   ],
   "source": [
    "num_1 = [1,2,3]\n",
    "num_2 = [4,5,6]\n",
    "file = open('ptfds.txt', 'w')\n",
    "file.write(str(num_1))\n",
    "file.close()\n",
    "\n",
    "file = open('ptfds.txt', 'a')\n",
    "file.write(str(num_2))\n",
    "file.close()\n",
    "\n",
    "result = num_1 + num_2\n",
    "file = open('ptfds.txt', 'a')\n",
    "file.write(str(result))\n",
    "file.close()\n",
    "\n",
    "file = open('ptfds.txt')\n",
    "file.readlines()"
   ]
  },
  {
   "cell_type": "code",
   "execution_count": 33,
   "id": "3072cd44-a318-4aab-929e-8073b9f95262",
   "metadata": {},
   "outputs": [
    {
     "data": {
      "text/plain": [
       "'[2, 5, 8]'"
      ]
     },
     "execution_count": 33,
     "metadata": {},
     "output_type": "execute_result"
    }
   ],
   "source": [
    "numbers = [1,2,3,4,5,6,7,8,9,10]\n",
    "str(numbers[1::3])"
   ]
  },
  {
   "cell_type": "code",
   "execution_count": 40,
   "id": "012098ec-49df-4907-aa97-3cbf11adf331",
   "metadata": {},
   "outputs": [
    {
     "data": {
      "text/plain": [
       "[('IPhone', 800), ('Samsung', 1000), ('Google Pixel', 1200)]"
      ]
     },
     "execution_count": 40,
     "metadata": {},
     "output_type": "execute_result"
    }
   ],
   "source": [
    "phone_cost = {\n",
    "    \"IPhone\" : 1200,\n",
    "    \"Samsung\" : 1000,\n",
    "    \"Google Pixel\" : 800\n",
    "}\n",
    "\n",
    "new_phone_cost = ____________________\n",
    "\n",
    "Desired Output:\n",
    "[('IPhone', 800), ('Samsung', 1000), ('Google Pixel', 1200)]\n",
    "\n",
    "list(zip(phone_cost.keys(), sorted(phone_cost.values())))"
   ]
  },
  {
   "cell_type": "code",
   "execution_count": 43,
   "id": "16f0b486-e53f-4ae5-adac-247494126d0b",
   "metadata": {},
   "outputs": [
    {
     "data": {
      "text/plain": [
       "[('IPhone', 800), ('Samsung', 1000), ('Google Pixel', 1200)]"
      ]
     },
     "execution_count": 43,
     "metadata": {},
     "output_type": "execute_result"
    }
   ],
   "source": [
    "list(zip(phone_cost.keys(), sorted(phone_cost.values())))"
   ]
  },
  {
   "cell_type": "code",
   "execution_count": 44,
   "id": "c1be39be-047e-4e24-80a8-a7b90c56c8a4",
   "metadata": {},
   "outputs": [
    {
     "data": {
      "text/plain": [
       "45"
      ]
     },
     "execution_count": 44,
     "metadata": {},
     "output_type": "execute_result"
    }
   ],
   "source": [
    "lol = [[21, 89, 54], [92, 34, 56], [81, 45, 34]]\n",
    "\n",
    "lol[-1][1]"
   ]
  },
  {
   "cell_type": "code",
   "execution_count": 61,
   "id": "4155a3ed-39d6-46b7-926c-c1fe3afec72f",
   "metadata": {},
   "outputs": [
    {
     "data": {
      "text/plain": [
       "{'Insidious'}"
      ]
     },
     "execution_count": 61,
     "metadata": {},
     "output_type": "execute_result"
    }
   ],
   "source": [
    "books = set({'Harry Potter', 'Insidious'})\n",
    "movies = set({'Harry Potter', 'Forrest Gump'})\n",
    "\n",
    "\n",
    "\n",
    "books-movies"
   ]
  },
  {
   "cell_type": "code",
   "execution_count": 67,
   "id": "8fa5e6db-da46-44d6-bf80-a058ef00c632",
   "metadata": {},
   "outputs": [
    {
     "name": "stdout",
     "output_type": "stream",
     "text": [
      "['88', '92', '83']\n"
     ]
    }
   ],
   "source": [
    "student_marks = ['Haris 88', 'Jacob 92', 'Noah 83']\n",
    "\n",
    "def print_result():\n",
    "    result = [s.split()[1] for s in student_marks]\n",
    "    print(result)\n",
    "\n",
    "print_result()"
   ]
  },
  {
   "cell_type": "code",
   "execution_count": 64,
   "id": "987a4591-cf88-4f13-ae7a-48df7875ed61",
   "metadata": {},
   "outputs": [
    {
     "data": {
      "text/plain": [
       "['88', '92', '83']"
      ]
     },
     "execution_count": 64,
     "metadata": {},
     "output_type": "execute_result"
    }
   ],
   "source": [
    "student_marks = ['Haris 88', 'Jacob 92', 'Noah 83']\n",
    "\n",
    "[s.split()[1] for s in student_marks]"
   ]
  },
  {
   "cell_type": "code",
   "execution_count": 71,
   "id": "d0184fc4-cdf9-4fdc-b9e9-cf8bebfa5821",
   "metadata": {},
   "outputs": [
    {
     "data": {
      "text/plain": [
       "[2, 4, 6, 8, 10, 12, 14, 16, 18, 20]"
      ]
     },
     "execution_count": 71,
     "metadata": {},
     "output_type": "execute_result"
    }
   ],
   "source": [
    "[a*2 for a in range(1,11)]"
   ]
  },
  {
   "cell_type": "code",
   "execution_count": 75,
   "id": "ffb7ee6c-34fe-4d3d-ad14-3808d6ec349f",
   "metadata": {},
   "outputs": [
    {
     "data": {
      "text/plain": [
       "[2, 4, 6, 8, 10, 12, 14, 16, 18, 20]"
      ]
     },
     "execution_count": 75,
     "metadata": {},
     "output_type": "execute_result"
    }
   ],
   "source": [
    "table_generator = lambda t: [t*n for n in range(1, 11)]\n",
    "\n",
    "table_generator(2)"
   ]
  },
  {
   "cell_type": "code",
   "execution_count": 76,
   "id": "96d8e70f-121e-49d5-8d23-1c3e4e59694c",
   "metadata": {},
   "outputs": [],
   "source": [
    "import re\n"
   ]
  },
  {
   "cell_type": "code",
   "execution_count": 82,
   "id": "1f857a4d-722a-4238-b127-e31ef85dc300",
   "metadata": {},
   "outputs": [
    {
     "name": "stdout",
     "output_type": "stream",
     "text": [
      "None\n"
     ]
    }
   ],
   "source": [
    "print(re.search('xx','aaa'))"
   ]
  },
  {
   "cell_type": "code",
   "execution_count": 168,
   "id": "f904caa8-fc62-40bf-8ed3-0755d5fa2275",
   "metadata": {},
   "outputs": [],
   "source": [
    "members = \"\"\"John Doe,25,Male\n",
    "Jane Smith,30,Female\n",
    "Bob Johnson,22,Male\n",
    "Alice Brown,35,Female\n",
    "Charlie Davis,2,Male\"\"\""
   ]
  },
  {
   "cell_type": "code",
   "execution_count": 169,
   "id": "f22b89e6-b2df-4488-8088-f91f35c37233",
   "metadata": {},
   "outputs": [
    {
     "data": {
      "text/plain": [
       "['25', '30', '22', '35', '2']"
      ]
     },
     "execution_count": 169,
     "metadata": {},
     "output_type": "execute_result"
    }
   ],
   "source": [
    "re.findall('\\d{1,2}', members)\n",
    "re.findall('\\d+', members)\n",
    "re.findall('\\d\\d?', members)"
   ]
  },
  {
   "cell_type": "code",
   "execution_count": 170,
   "id": "28491175-a108-4818-ae18-7bcfe9725b6c",
   "metadata": {},
   "outputs": [
    {
     "data": {
      "text/plain": [
       "['John',\n",
       " 'Doe',\n",
       " 'Male',\n",
       " 'Jane',\n",
       " 'Smith',\n",
       " 'Female',\n",
       " 'Bob',\n",
       " 'Johnson',\n",
       " 'Male',\n",
       " 'Alice',\n",
       " 'Brown',\n",
       " 'Female',\n",
       " 'Charlie',\n",
       " 'Davis',\n",
       " 'Male']"
      ]
     },
     "execution_count": 170,
     "metadata": {},
     "output_type": "execute_result"
    }
   ],
   "source": [
    "re.findall(r'([a-zA-Z]+)', data)"
   ]
  },
  {
   "cell_type": "code",
   "execution_count": 171,
   "id": "39f0b836-7eb8-4fcf-a9fb-0e08f5cb8d02",
   "metadata": {},
   "outputs": [
    {
     "data": {
      "text/plain": [
       "3"
      ]
     },
     "execution_count": 171,
     "metadata": {},
     "output_type": "execute_result"
    }
   ],
   "source": [
    "len([x for x in re.findall(r'([a-zA-Z]+)', data) if x=='Male'])"
   ]
  },
  {
   "cell_type": "code",
   "execution_count": 172,
   "id": "ec9632ac-7a33-4f33-be1d-629ae70fe69b",
   "metadata": {},
   "outputs": [
    {
     "data": {
      "text/plain": [
       "[('John', 'Doe'),\n",
       " ('Male', 'Jane'),\n",
       " ('Female', 'Bob'),\n",
       " ('Male', 'Alice'),\n",
       " ('Female', 'Charlie')]"
      ]
     },
     "execution_count": 172,
     "metadata": {},
     "output_type": "execute_result"
    }
   ],
   "source": [
    "pattern = re.compile(r'(\\b[A-Z][a-z]+)\\s([A-Z][a-z]+)\\b')\n",
    "matches = pattern.findall(data)\n",
    "matches"
   ]
  },
  {
   "cell_type": "code",
   "execution_count": 173,
   "id": "9032ba36-b61f-47c0-903f-6dcc708a5b23",
   "metadata": {},
   "outputs": [
    {
     "data": {
      "text/plain": [
       "['25', '30', '22', '35', '2']"
      ]
     },
     "execution_count": 173,
     "metadata": {},
     "output_type": "execute_result"
    }
   ],
   "source": [
    "[line.split(',')[1] for line in members.split('\\n')]"
   ]
  },
  {
   "cell_type": "code",
   "execution_count": 181,
   "id": "febe3e27-e869-40e5-8cd1-ce7a61890e34",
   "metadata": {},
   "outputs": [
    {
     "data": {
      "text/plain": [
       "'Jane Smith,30,Female'"
      ]
     },
     "execution_count": 181,
     "metadata": {},
     "output_type": "execute_result"
    }
   ],
   "source": [
    "members.split('\\n')[1]"
   ]
  },
  {
   "cell_type": "code",
   "execution_count": 11,
   "id": "2c2078f8-ab1f-4dc3-8e00-e7ebd4a5323a",
   "metadata": {},
   "outputs": [
    {
     "name": "stdout",
     "output_type": "stream",
     "text": [
      "['John Doe,25,Male', 'Bob Johnson,22,Male', 'Charlie Davis,2,Male']\n",
      "Members with age <= 25 and Male:\n",
      "[]\n"
     ]
    }
   ],
   "source": [
    "members = \"\"\"John Doe,25,Male\n",
    "Jane Smith,30,Female\n",
    "Bob Johnson,22,Male\n",
    "Alice Brown,35,Female\n",
    "Charlie Davis,2,Male\"\"\"\n",
    "\n",
    "#filter_condition = lambda line: int(line.split(',')[1]) <= 25 and line.split(',')[2] == 'Male'\n",
    "\n",
    "filtered_lines = filter(lambda line: int(line.split(',')[1]) <= 25 and line.split(',')[2] == 'Male', members.split('\\n'))\n",
    "\n",
    "print(list(filtered_lines))\n",
    "# Extract names from the filtered lines\n",
    "filtered_members = [line.split(',')[0] for line in filtered_lines]\n",
    "\n",
    "# Print the names of members with age <= 25 and male\n",
    "print(\"Members with age <= 25 and Male:\")\n",
    "print(filtered_members)\n"
   ]
  },
  {
   "cell_type": "code",
   "execution_count": 12,
   "id": "cc3923fe-f00e-494c-9823-97e6b69eea26",
   "metadata": {},
   "outputs": [
    {
     "name": "stdout",
     "output_type": "stream",
     "text": [
      "[2, 4, 6, 8]\n"
     ]
    }
   ],
   "source": [
    "# Double all numbers using map and lambda\n",
    "numbers = (1, 2, 3, 4)\n",
    "result = map(lambda x: x + x, numbers)\n",
    "\n",
    "print(list(result))\n"
   ]
  },
  {
   "cell_type": "code",
   "execution_count": 15,
   "id": "c51fc75a-ebdf-47cd-8416-b85bd772c7ab",
   "metadata": {},
   "outputs": [
    {
     "data": {
      "text/plain": [
       "['John Doe,25,Male', 'Bob Johnson,22,Male', 'Charlie Davis,2,Male']"
      ]
     },
     "execution_count": 15,
     "metadata": {},
     "output_type": "execute_result"
    }
   ],
   "source": [
    "list(filter(lambda line: int(line.split(',')[1]) <= 25 and line.split(',')[2] == 'Male', members.split('\\n')))"
   ]
  },
  {
   "cell_type": "code",
   "execution_count": 18,
   "id": "db23f972-4a46-454e-9863-805450f060ae",
   "metadata": {},
   "outputs": [
    {
     "data": {
      "text/plain": [
       "[True, False, True, False, True]"
      ]
     },
     "execution_count": 18,
     "metadata": {},
     "output_type": "execute_result"
    }
   ],
   "source": [
    "list(map(lambda line: int(line.split(',')[1]) <= 25 and line.split(',')[2] == 'Male', members.split('\\n')))"
   ]
  },
  {
   "cell_type": "code",
   "execution_count": null,
   "id": "69196cdf-389f-4f43-a093-81b17c526119",
   "metadata": {},
   "outputs": [],
   "source": []
  }
 ],
 "metadata": {
  "kernelspec": {
   "display_name": "Python 3 (ipykernel)",
   "language": "python",
   "name": "python3"
  },
  "language_info": {
   "codemirror_mode": {
    "name": "ipython",
    "version": 3
   },
   "file_extension": ".py",
   "mimetype": "text/x-python",
   "name": "python",
   "nbconvert_exporter": "python",
   "pygments_lexer": "ipython3",
   "version": "3.11.6"
  }
 },
 "nbformat": 4,
 "nbformat_minor": 5
}
